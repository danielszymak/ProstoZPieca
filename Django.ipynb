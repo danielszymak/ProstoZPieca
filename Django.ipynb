{
 "cells": [
  {
   "cell_type": "markdown",
   "id": "architectural-luxury",
   "metadata": {},
   "source": [
    "# Django\n",
    "\n",
    "### Uruchomienie projektu\n",
    "##### pip install django\n",
    "##### django-admin startproject prostozpieca\n",
    "\n",
    "### Utworzenie aplikacji<br>\n",
    "Przechodzimy do folderu z projektem, a następnie:\n",
    "##### python manage.py startapp project<br>\n",
    "Przechodzimy do pliku settings.py i dodajemy aplikację 'project' do zainstalowanych aplikacji.\n",
    "\n",
    "### Tworzenie bazy<br>\n",
    "Przechodzimy do pliku models.py i zapisujemy nazwę tabeli, np.:\n",
    "\n",
    "##### class ProportionBakings(models.Model):\n",
    "\n",
    "<em>Tu zapisujemy nazwy kolumn w bazie i determinujemy ich typ, np.: name = models.CharField()</em>\n",
    "\n",
    "###### class Meta:\n",
    "\n",
    "<em>Tu zapisuje się dodatkowe informacje, np. czy dana klasa jest klasą abstrakcyjną lub constrainty:</em>\n",
    "\n",
    "###### constraints = [models.CheckConstraint(check=models.Q(kolumna__gte = 0), name=\"nazwa ograniczenia\"), ... ]"
   ]
  },
  {
   "cell_type": "code",
   "execution_count": null,
   "id": "stuffed-science",
   "metadata": {},
   "outputs": [],
   "source": []
  }
 ],
 "metadata": {
  "kernelspec": {
   "display_name": "Python 3",
   "language": "python",
   "name": "python3"
  },
  "language_info": {
   "codemirror_mode": {
    "name": "ipython",
    "version": 3
   },
   "file_extension": ".py",
   "mimetype": "text/x-python",
   "name": "python",
   "nbconvert_exporter": "python",
   "pygments_lexer": "ipython3",
   "version": "3.8.1"
  }
 },
 "nbformat": 4,
 "nbformat_minor": 5
}
