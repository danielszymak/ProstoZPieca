{
 "cells": [
  {
   "cell_type": "markdown",
   "id": "architectural-luxury",
   "metadata": {},
   "source": [
    "# Django\n",
    "\n",
    "### Uruchomienie projektu\n",
    "##### pip install django\n",
    "##### django-admin startproject prostozpieca\n",
    "\n",
    "### Utworzenie aplikacji<br>\n",
    "Przechodzimy do folderu z projektem, a następnie:\n",
    "##### python manage.py startapp project<br>\n",
    "Przechodzimy do pliku settings.py i dodajemy aplikację 'project' do zainstalowanych aplikacji."
   ]
  },
  {
   "cell_type": "code",
   "execution_count": null,
   "id": "stuffed-science",
   "metadata": {},
   "outputs": [],
   "source": []
  }
 ],
 "metadata": {
  "kernelspec": {
   "display_name": "Python 3",
   "language": "python",
   "name": "python3"
  },
  "language_info": {
   "codemirror_mode": {
    "name": "ipython",
    "version": 3
   },
   "file_extension": ".py",
   "mimetype": "text/x-python",
   "name": "python",
   "nbconvert_exporter": "python",
   "pygments_lexer": "ipython3",
   "version": "3.8.1"
  }
 },
 "nbformat": 4,
 "nbformat_minor": 5
}
